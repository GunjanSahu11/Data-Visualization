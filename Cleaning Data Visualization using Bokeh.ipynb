{
 "cells": [
  {
   "cell_type": "code",
   "execution_count": 1,
   "metadata": {},
   "outputs": [],
   "source": [
    "# import modules\n",
    "from bokeh.plotting import figure, show\n",
    "# create figure\n",
    "p = figure(plot_width=400, plot_height=400)\n",
    "# add a circle renderer with\n",
    "# size, color and alpha\n",
    "p.circle([1, 2, 3, 4, 5], [4, 7, 1, 6, 3],\n",
    " size=10, color=\"navy\", alpha=0.5)\n",
    "# show the results\n",
    "show(p)\n"
   ]
  },
  {
   "cell_type": "code",
   "execution_count": 3,
   "metadata": {},
   "outputs": [],
   "source": [
    "# bokeh basics\n",
    "from bokeh.plotting import figure\n",
    "from bokeh.io import show\n",
    "import pandas as pd\n",
    "# Create a blank figure with labels\n",
    "p = figure(plot_width = 600, plot_height = 600,\n",
    " title = 'Example Glyphs',\n",
    " x_axis_label = 'X', y_axis_label = 'Y')\n",
    "# Example data\n",
    "squares_x = [1, 3, 4, 5, 8]\n",
    "squares_y = [8, 7, 3, 1, 10]\n",
    "circles_x = [9, 12, 4, 3, 15]\n",
    "circles_y = [8, 4, 11, 6, 10]\n",
    "# Add squares glyph\n",
    "p.square(squares_x, squares_y, size = 12, color = 'navy', alpha = 0.6)\n",
    "# Add circle glyph\n",
    "p.circle(circles_x, circles_y, size = 12, color = 'red')\n",
    "# Show the plot\n",
    "show(p)"
   ]
  },
  {
   "cell_type": "code",
   "execution_count": 4,
   "metadata": {},
   "outputs": [],
   "source": [
    "# import modules\n",
    "from bokeh.plotting import figure, show\n",
    "# create figure\n",
    "p = figure(plot_width=400, plot_height=400)\n",
    "# add a line renderer\n",
    "p.line([1, 2, 3, 4, 5], [3, 1, 2, 6, 5],\n",
    " line_width=2, color=\"green\")\n",
    "# show the results\n",
    "show(p)"
   ]
  },
  {
   "cell_type": "code",
   "execution_count": null,
   "metadata": {},
   "outputs": [],
   "source": []
  }
 ],
 "metadata": {
  "kernelspec": {
   "display_name": "Python 3",
   "language": "python",
   "name": "python3"
  },
  "language_info": {
   "codemirror_mode": {
    "name": "ipython",
    "version": 3
   },
   "file_extension": ".py",
   "mimetype": "text/x-python",
   "name": "python",
   "nbconvert_exporter": "python",
   "pygments_lexer": "ipython3",
   "version": "3.7.6"
  }
 },
 "nbformat": 4,
 "nbformat_minor": 4
}
